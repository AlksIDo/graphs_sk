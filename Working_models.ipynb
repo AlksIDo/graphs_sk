{
 "cells": [
  {
   "cell_type": "markdown",
   "id": "e66b164c-1777-421a-801c-6d054a088188",
   "metadata": {},
   "source": [
    "# Теперь что получилось"
   ]
  },
  {
   "cell_type": "code",
   "execution_count": 4,
   "id": "b8bf3134",
   "metadata": {
    "ExecuteTime": {
     "end_time": "2021-08-03T16:46:54.834018Z",
     "start_time": "2021-08-03T16:46:54.830125Z"
    },
    "tags": []
   },
   "outputs": [
    {
     "name": "stderr",
     "output_type": "stream",
     "text": [
      "Using backend: pytorch\n"
     ]
    }
   ],
   "source": [
    "import os\n",
    "from copy import deepcopy\n",
    "\n",
    "import dgl.nn.pytorch as dglnn\n",
    "import matplotlib.pyplot as plt\n",
    "import numpy as np\n",
    "import pandas as pd\n",
    "import torch\n",
    "import torch.nn as nn\n",
    "import torch.nn.functional as F\n",
    "from dgl.dataloading import GraphDataLoader\n",
    "from dgl.nn import GATConv, GraphConv\n",
    "from sklearn.metrics import accuracy_score, mean_squared_error, r2_score\n",
    "from sklearn.model_selection import train_test_split\n",
    "from sklearn.preprocessing import OneHotEncoder as OHE\n",
    "from torch.nn import Linear\n",
    "from torch_geometric.data import Data, Dataset\n",
    "from torch_geometric.loader import DataLoader\n",
    "from torch_geometric.nn import (\n",
    "    ChebConv,\n",
    "    GATConv,\n",
    "    GCNConv,\n",
    "    GraphConv,\n",
    "    NNConv,\n",
    "    global_mean_pool,\n",
    ")\n",
    "from tqdm import tqdm\n",
    "\n",
    "np.set_printoptions(suppress=True)"
   ]
  },
  {
   "cell_type": "code",
   "execution_count": 5,
   "id": "8ac4ef48-184f-4a7e-af7e-d5944583d834",
   "metadata": {},
   "outputs": [],
   "source": [
    "df = pd.read_excel(\"02-pdbbind-refined.xlsx\", engine=\"openpyxl\")"
   ]
  },
  {
   "cell_type": "code",
   "execution_count": 6,
   "id": "81380fee-6f8e-4b36-8c39-e51b3206dd9d",
   "metadata": {},
   "outputs": [],
   "source": [
    "df[\"e_predict\"] = df[\"e_exp\"] * 2 ** (-(df[\"rmsd\"] ** 2) / 4)"
   ]
  },
  {
   "cell_type": "code",
   "execution_count": 7,
   "id": "a4630e06-2fb3-4cac-abe8-71591d6e820f",
   "metadata": {},
   "outputs": [],
   "source": [
    "df[\"e_predict\"] = df[\"e_predict\"].map(lambda x: abs(x))"
   ]
  },
  {
   "cell_type": "code",
   "execution_count": 5,
   "id": "58b62da4",
   "metadata": {
    "ExecuteTime": {
     "end_time": "2021-06-23T14:59:24.070143Z",
     "start_time": "2021-06-23T14:58:45.870Z"
    }
   },
   "outputs": [],
   "source": [
    "folder = \"data/\"\n",
    "node_ohe = OHE(categories=[list(range(23)), [0, 1], [0, 1]])\n",
    "edge_ohe = OHE(categories=[[0, 1]])\n",
    "graphs = []\n",
    "for fn in os.listdir(folder):\n",
    "    if fn.endswith(\".npz\"):\n",
    "        data = np.load(folder + fn)\n",
    "        X = torch.tensor(node_ohe.fit_transform(data[\"node_data\"][:, 1:4]).todense())\n",
    "\n",
    "        A = edge_ohe.fit_transform(data[\"edge_data\"][:, 1:]).todense()\n",
    "        E = torch.tensor(np.hstack((data[\"edge_data\"][:, :1], A)))\n",
    "\n",
    "        g = dgl.graph((data[\"edges\"][:, 0], data[\"edges\"][:, 1]))\n",
    "        g.ndata[\"node_features\"] = X\n",
    "        g.edata[\"edge_features\"] = E\n",
    "        g.y = torch.tensor(\n",
    "            df[df[\"name\"] == fn.replace(\".npz\", \".gml\")][\"e_predict\"].item()\n",
    "        )\n",
    "        g = dgl.add_self_loop(g)\n",
    "        graphs.append(g)"
   ]
  },
  {
   "cell_type": "code",
   "execution_count": 6,
   "id": "de011b0c",
   "metadata": {
    "ExecuteTime": {
     "end_time": "2021-06-23T14:59:24.070811Z",
     "start_time": "2021-06-23T14:58:45.871Z"
    }
   },
   "outputs": [],
   "source": [
    "dgl.save_graphs(folder + \"graphs.bin\", graphs)"
   ]
  },
  {
   "cell_type": "code",
   "execution_count": 7,
   "id": "0262be5e-5a12-465d-8df1-c5561a252ea4",
   "metadata": {},
   "outputs": [],
   "source": [
    "class GraphDataset(Dataset):\n",
    "    def __init__(self, graphs):\n",
    "        self.graphs = graphs\n",
    "\n",
    "    def __len__(self):\n",
    "        return len(self.graphs)\n",
    "\n",
    "    def __getitem__(self, idx):\n",
    "        graph_data = self.graphs[idx]\n",
    "\n",
    "        graph_data.y_exp = torch.exp(deepcopy(graph_data.y))\n",
    "\n",
    "        graph_data.y_int = torch.round(deepcopy(graph_data.y_exp)).float()\n",
    "\n",
    "        return graph_data, graph_data.y"
   ]
  },
  {
   "cell_type": "code",
   "execution_count": 9,
   "id": "2f388624-45ae-461c-94ff-bec14956f6d6",
   "metadata": {},
   "outputs": [],
   "source": [
    "X_train, X_test, y_train, y_test = train_test_split(\n",
    "    graphs,\n",
    "    [i.y for i in graphs],\n",
    "    test_size=0.2,\n",
    "    random_state=42,\n",
    "    stratify=[np.exp(i.y.cpu().numpy()) > 0.5 for i in graphs],\n",
    ")"
   ]
  },
  {
   "cell_type": "code",
   "execution_count": 10,
   "id": "87a6c95b-23d1-4645-8d4c-be264f1f8214",
   "metadata": {},
   "outputs": [],
   "source": [
    "train_dataset = GraphDataset(X_train)\n",
    "test_dataset = GraphDataset(X_test)"
   ]
  },
  {
   "cell_type": "code",
   "execution_count": 11,
   "id": "f9be19b2-3f90-4f29-b545-0c40992236dc",
   "metadata": {},
   "outputs": [
    {
     "data": {
      "text/plain": [
       "(Graph(num_nodes=517, num_edges=23368,\n",
       "       ndata_schemes={'node_features': Scheme(shape=(27,), dtype=torch.float64)}\n",
       "       edata_schemes={'edge_features': Scheme(shape=(3,), dtype=torch.float64)}),\n",
       " tensor(0.1591))"
      ]
     },
     "execution_count": 11,
     "metadata": {},
     "output_type": "execute_result"
    }
   ],
   "source": [
    "train_dataset[0]"
   ]
  },
  {
   "cell_type": "code",
   "execution_count": 12,
   "id": "cfe76e3a-8bd4-4860-a98b-c66084de557a",
   "metadata": {},
   "outputs": [],
   "source": [
    "from dgl.dataloading import GraphDataLoader\n",
    "\n",
    "train_loader = GraphDataLoader(\n",
    "    train_dataset, batch_size=10, drop_last=False, shuffle=True, num_workers=4\n",
    ")\n",
    "test_loader = GraphDataLoader(\n",
    "    test_dataset, batch_size=10, drop_last=False, shuffle=True, num_workers=4\n",
    ")"
   ]
  },
  {
   "cell_type": "code",
   "execution_count": 13,
   "id": "d97f9406-7c70-4d41-956f-490a8e6b9823",
   "metadata": {},
   "outputs": [],
   "source": [
    "for data in train_loader:\n",
    "    break"
   ]
  },
  {
   "cell_type": "markdown",
   "id": "a031e28d-2125-4f93-bc64-0ae8f33292a7",
   "metadata": {},
   "source": [
    "## Достаточно простая модель только на фичах нод, rmse ~ 1.9"
   ]
  },
  {
   "cell_type": "code",
   "execution_count": 14,
   "id": "48c01a59-8a8a-4772-8c4d-f41b65425163",
   "metadata": {},
   "outputs": [],
   "source": [
    "import dgl.nn.pytorch as dglnn\n",
    "import torch.nn as nn\n",
    "\n",
    "\n",
    "class Classifier(nn.Module):\n",
    "    def __init__(self, in_dim, hidden_dim, n_classes):\n",
    "        super(Classifier, self).__init__()\n",
    "        self.conv1 = dglnn.GraphConv(in_dim, hidden_dim)\n",
    "        self.conv2 = dglnn.GraphConv(hidden_dim, hidden_dim)\n",
    "        self.conv3 = dglnn.GraphConv(hidden_dim, hidden_dim)\n",
    "        self.conv4 = dglnn.GraphConv(hidden_dim, hidden_dim)\n",
    "\n",
    "        self.linear1 = nn.Linear(hidden_dim, hidden_dim)\n",
    "        self.linear2 = nn.Linear(hidden_dim, hidden_dim)\n",
    "        self.classify = nn.Linear(hidden_dim, n_classes)\n",
    "\n",
    "    def forward(self, g, h):\n",
    "        # Apply graph convolution and activation.\n",
    "        h = F.relu(self.conv1(g, h.double()))\n",
    "        h = F.relu(self.conv2(g, h.double()))\n",
    "        h = F.relu(self.conv3(g, h.double()))\n",
    "        h = F.relu(self.conv4(g, h.double()))\n",
    "\n",
    "        with g.local_scope():\n",
    "            g.ndata[\"h\"] = h\n",
    "            # Calculate graph representation by average readout.\n",
    "            hg = dgl.mean_nodes(g, \"h\")\n",
    "\n",
    "            hg = self.linear1(hg)\n",
    "            hg = F.relu(hg)\n",
    "            hg = self.linear2(hg)\n",
    "            hg = F.relu(hg)\n",
    "\n",
    "            return self.classify(hg)"
   ]
  },
  {
   "cell_type": "code",
   "execution_count": 15,
   "id": "059da15d-2bbb-4a1d-8894-43f9bc5bb1a1",
   "metadata": {},
   "outputs": [
    {
     "name": "stdout",
     "output_type": "stream",
     "text": [
      "76081\n",
      "8.889512553668773\n",
      "5.2704700980673715\n",
      "5.385315644960093\n",
      "4.962996784356028\n",
      "3.5313531005969168\n",
      "3.637737494715434\n",
      "2.3621417175397195\n",
      "2.249185672085703\n",
      "2.56945075345658\n",
      "2.206888341895281\n",
      "2.5114990437363076\n",
      "2.691628143323801\n",
      "1.8139445880272649\n",
      "2.0032120853308366\n",
      "1.7040554514679047\n"
     ]
    }
   ],
   "source": [
    "model = Classifier(27, 120, 1).double()\n",
    "print(sum(p.numel() for p in model.parameters()))  # средняя модель\n",
    "opt = torch.optim.Adam(model.parameters())\n",
    "device = \"cuda:2\"\n",
    "model = model.to(device)\n",
    "\n",
    "rmse_history = []\n",
    "for epoch in range(750):\n",
    "    model.train()\n",
    "    for batched_graph, labels in train_loader:\n",
    "        feats = batched_graph.ndata[\"node_features\"].to(device)\n",
    "        logits = model(batched_graph.to(device), feats)\n",
    "        loss = F.mse_loss(\n",
    "            logits.double().view(1, -1), labels.double().view(1, -1).to(device)\n",
    "        )\n",
    "        opt.zero_grad()\n",
    "        loss.backward()\n",
    "        opt.step()\n",
    "\n",
    "    preds = []\n",
    "    trues = []\n",
    "    model.eval()\n",
    "    for batched_graph, labels in test_loader:\n",
    "        feats = batched_graph.ndata[\"node_features\"].to(device)\n",
    "        logits = model(batched_graph.to(device), feats)\n",
    "        val_loss = F.mse_loss(\n",
    "            logits.double().view(1, -1), labels.double().view(1, -1).to(device)\n",
    "        )\n",
    "        preds.extend(logits.detach().cpu().numpy())\n",
    "        trues.extend(labels.detach().cpu().numpy())\n",
    "    rmse_history.append(mean_squared_error(preds, trues))\n",
    "    if epoch % 50 == 0:\n",
    "        print(mean_squared_error(preds, trues))"
   ]
  },
  {
   "cell_type": "code",
   "execution_count": 16,
   "id": "f520c2b6-c302-40e7-a115-8879d2842070",
   "metadata": {},
   "outputs": [
    {
     "data": {
      "text/plain": [
       "1.6802294016394155"
      ]
     },
     "execution_count": 16,
     "metadata": {},
     "output_type": "execute_result"
    }
   ],
   "source": [
    "min(rmse_history)"
   ]
  },
  {
   "cell_type": "code",
   "execution_count": 20,
   "id": "acde8084-37a2-446f-8ad6-380e6114138c",
   "metadata": {},
   "outputs": [
    {
     "data": {
      "text/plain": [
       "640"
      ]
     },
     "execution_count": 20,
     "metadata": {},
     "output_type": "execute_result"
    }
   ],
   "source": [
    "rmse_history.index(min(rmse_history))"
   ]
  },
  {
   "cell_type": "code",
   "execution_count": 22,
   "id": "984f5c17-04ec-424d-80ea-021e18d89268",
   "metadata": {},
   "outputs": [
    {
     "data": {
      "text/plain": [
       "Text(0.5, 1.0, 'Simple GCN node features only')"
      ]
     },
     "execution_count": 22,
     "metadata": {},
     "output_type": "execute_result"
    },
    {
     "data": {
      "image/png": "[encoded data removed]",
      "text/plain": [
       "<Figure size 432x288 with 1 Axes>"
      ]
     },
     "metadata": {
      "needs_background": "light"
     },
     "output_type": "display_data"
    }
   ],
   "source": [
    "plt.plot(rmse_history)\n",
    "plt.title(\"Simple GCN node features only\")"
   ]
  },
  {
   "cell_type": "markdown",
   "id": "ed237d27-71ae-4d0f-a0b7-32cb033a6635",
   "metadata": {},
   "source": [
    "# Аналогичная сеть в геометрике"
   ]
  },
  {
   "cell_type": "code",
   "execution_count": 23,
   "id": "6cdb39ba-dc8c-4dd3-8df2-15b3a7b5759b",
   "metadata": {},
   "outputs": [],
   "source": [
    "import os\n",
    "import time\n",
    "from collections import defaultdict as ddict\n",
    "from copy import deepcopy\n",
    "\n",
    "import dgl\n",
    "import dgl.nn.pytorch as dglnn\n",
    "import matplotlib.pyplot as plt\n",
    "import networkx as nx\n",
    "import numpy as np\n",
    "import pandas as pd\n",
    "import torch\n",
    "import torch.nn as nn\n",
    "import torch.nn.functional as F\n",
    "from dgl.dataloading import GraphDataLoader\n",
    "from dgl.nn import GATConv, GraphConv\n",
    "from sklearn.metrics import accuracy_score, mean_squared_error, r2_score\n",
    "from sklearn.model_selection import train_test_split\n",
    "from sklearn.preprocessing import OneHotEncoder as OHE\n",
    "from torch.nn import Linear\n",
    "from torch_geometric.data import Data, Dataset\n",
    "from torch_geometric.loader import DataLoader\n",
    "from torch_geometric.nn import (\n",
    "    ChebConv,\n",
    "    GATConv,\n",
    "    GCNConv,\n",
    "    GraphConv,\n",
    "    NNConv,\n",
    "    global_mean_pool,\n",
    ")\n",
    "from tqdm import tqdm\n",
    "\n",
    "np.set_printoptions(suppress=True)\n",
    "from catboost import CatBoostRegressor, Pool"
   ]
  },
  {
   "cell_type": "code",
   "execution_count": 24,
   "id": "64dee1a0-1b89-4e14-9cfa-d1cbd138b855",
   "metadata": {},
   "outputs": [],
   "source": [
    "df = pd.read_excel(\"02-pdbbind-refined.xlsx\", engine=\"openpyxl\")"
   ]
  },
  {
   "cell_type": "code",
   "execution_count": 25,
   "id": "c1451dd4-6ae4-4179-8561-2b18f451db41",
   "metadata": {},
   "outputs": [],
   "source": [
    "df[\"e_predict\"] = df[\"e_exp\"] * 2 ** (-(df[\"rmsd\"] ** 2) / 4)"
   ]
  },
  {
   "cell_type": "code",
   "execution_count": 26,
   "id": "0d487948-4960-4820-ada7-40bf1f6c6067",
   "metadata": {},
   "outputs": [],
   "source": [
    "df[\"e_predict\"] = df[\"e_predict\"].map(lambda x: abs(x))"
   ]
  },
  {
   "cell_type": "code",
   "execution_count": 27,
   "id": "aec37b0d-b646-42ac-be20-bb2e8245dabe",
   "metadata": {},
   "outputs": [
    {
     "data": {
      "text/html": [
       "<div>\n",
       "<style scoped>\n",
       "    .dataframe tbody tr th:only-of-type {\n",
       "        vertical-align: middle;\n",
       "    }\n",
       "\n",
       "    .dataframe tbody tr th {\n",
       "        vertical-align: top;\n",
       "    }\n",
       "\n",
       "    .dataframe thead th {\n",
       "        text-align: right;\n",
       "    }\n",
       "</style>\n",
       "<table border=\"1\" class=\"dataframe\">\n",
       "  <thead>\n",
       "    <tr style=\"text-align: right;\">\n",
       "      <th></th>\n",
       "      <th>pdb</th>\n",
       "      <th>run</th>\n",
       "      <th>pose</th>\n",
       "      <th>nfrb</th>\n",
       "      <th>e_docking</th>\n",
       "      <th>rmsd</th>\n",
       "      <th>eLJ</th>\n",
       "      <th>emetal</th>\n",
       "      <th>eHB</th>\n",
       "      <th>eelec</th>\n",
       "      <th>etors</th>\n",
       "      <th>is_good</th>\n",
       "      <th>e_exp</th>\n",
       "      <th>name</th>\n",
       "      <th>e_predict</th>\n",
       "    </tr>\n",
       "  </thead>\n",
       "  <tbody>\n",
       "    <tr>\n",
       "      <th>0</th>\n",
       "      <td>184l</td>\n",
       "      <td>0</td>\n",
       "      <td>0</td>\n",
       "      <td>2</td>\n",
       "      <td>-5.32687</td>\n",
       "      <td>0.55437</td>\n",
       "      <td>-1.41440</td>\n",
       "      <td>0.0</td>\n",
       "      <td>0.20612</td>\n",
       "      <td>-0.00003</td>\n",
       "      <td>0.2352</td>\n",
       "      <td>1</td>\n",
       "      <td>-6.444844</td>\n",
       "      <td>184l-0-0.gml</td>\n",
       "      <td>6.110599</td>\n",
       "    </tr>\n",
       "    <tr>\n",
       "      <th>1</th>\n",
       "      <td>184l</td>\n",
       "      <td>0</td>\n",
       "      <td>1</td>\n",
       "      <td>2</td>\n",
       "      <td>-5.15635</td>\n",
       "      <td>1.80368</td>\n",
       "      <td>-1.34504</td>\n",
       "      <td>0.0</td>\n",
       "      <td>0.26135</td>\n",
       "      <td>-0.00049</td>\n",
       "      <td>0.2352</td>\n",
       "      <td>0</td>\n",
       "      <td>-6.444844</td>\n",
       "      <td>184l-0-1.gml</td>\n",
       "      <td>3.667584</td>\n",
       "    </tr>\n",
       "    <tr>\n",
       "      <th>2</th>\n",
       "      <td>184l</td>\n",
       "      <td>0</td>\n",
       "      <td>2</td>\n",
       "      <td>2</td>\n",
       "      <td>-5.03622</td>\n",
       "      <td>4.19935</td>\n",
       "      <td>-1.37091</td>\n",
       "      <td>0.0</td>\n",
       "      <td>0.36299</td>\n",
       "      <td>0.00039</td>\n",
       "      <td>0.2352</td>\n",
       "      <td>0</td>\n",
       "      <td>-6.444844</td>\n",
       "      <td>184l-0-2.gml</td>\n",
       "      <td>0.303446</td>\n",
       "    </tr>\n",
       "    <tr>\n",
       "      <th>3</th>\n",
       "      <td>184l</td>\n",
       "      <td>0</td>\n",
       "      <td>3</td>\n",
       "      <td>2</td>\n",
       "      <td>-5.05864</td>\n",
       "      <td>4.24878</td>\n",
       "      <td>-1.40106</td>\n",
       "      <td>0.0</td>\n",
       "      <td>0.37758</td>\n",
       "      <td>0.00002</td>\n",
       "      <td>0.2352</td>\n",
       "      <td>0</td>\n",
       "      <td>-6.444844</td>\n",
       "      <td>184l-0-3.gml</td>\n",
       "      <td>0.282263</td>\n",
       "    </tr>\n",
       "    <tr>\n",
       "      <th>4</th>\n",
       "      <td>184l</td>\n",
       "      <td>0</td>\n",
       "      <td>4</td>\n",
       "      <td>2</td>\n",
       "      <td>-5.12396</td>\n",
       "      <td>4.24426</td>\n",
       "      <td>-1.41376</td>\n",
       "      <td>0.0</td>\n",
       "      <td>0.21307</td>\n",
       "      <td>-0.00005</td>\n",
       "      <td>0.2352</td>\n",
       "      <td>0</td>\n",
       "      <td>-6.444844</td>\n",
       "      <td>184l-0-4.gml</td>\n",
       "      <td>0.284147</td>\n",
       "    </tr>\n",
       "  </tbody>\n",
       "</table>\n",
       "</div>"
      ],
      "text/plain": [
       "    pdb  run  pose  nfrb  e_docking     rmsd      eLJ  emetal      eHB  \\\n",
       "0  184l    0     0     2   -5.32687  0.55437 -1.41440     0.0  0.20612   \n",
       "1  184l    0     1     2   -5.15635  1.80368 -1.34504     0.0  0.26135   \n",
       "2  184l    0     2     2   -5.03622  4.19935 -1.37091     0.0  0.36299   \n",
       "3  184l    0     3     2   -5.05864  4.24878 -1.40106     0.0  0.37758   \n",
       "4  184l    0     4     2   -5.12396  4.24426 -1.41376     0.0  0.21307   \n",
       "\n",
       "     eelec   etors  is_good     e_exp          name  e_predict  \n",
       "0 -0.00003  0.2352        1 -6.444844  184l-0-0.gml   6.110599  \n",
       "1 -0.00049  0.2352        0 -6.444844  184l-0-1.gml   3.667584  \n",
       "2  0.00039  0.2352        0 -6.444844  184l-0-2.gml   0.303446  \n",
       "3  0.00002  0.2352        0 -6.444844  184l-0-3.gml   0.282263  \n",
       "4 -0.00005  0.2352        0 -6.444844  184l-0-4.gml   0.284147  "
      ]
     },
     "execution_count": 27,
     "metadata": {},
     "output_type": "execute_result"
    }
   ],
   "source": [
    "df.head()"
   ]
  },
  {
   "cell_type": "code",
   "execution_count": 28,
   "id": "fa57b5c6-03c7-4a0a-88a0-b2479ec3e03a",
   "metadata": {},
   "outputs": [],
   "source": [
    "data = np.load(\"data/1a28-2-0.npz\")"
   ]
  },
  {
   "cell_type": "code",
   "execution_count": 29,
   "id": "2b69429b-1ed4-4e04-b847-55b8c40797b0",
   "metadata": {},
   "outputs": [
    {
     "data": {
      "text/plain": [
       "array([[460.,   3.,   0.,   0.,   0.],\n",
       "       [471.,   3.,   0.,   0.,   0.],\n",
       "       [492.,   0.,   0.,   0.,   0.],\n",
       "       ...,\n",
       "       [ 20.,   0.,   1.,   1.,   0.],\n",
       "       [ 21.,   3.,   1.,   1.,   0.],\n",
       "       [ 22.,   0.,   1.,   1.,   0.]])"
      ]
     },
     "execution_count": 29,
     "metadata": {},
     "output_type": "execute_result"
    }
   ],
   "source": [
    "data[\"node_data\"]"
   ]
  },
  {
   "cell_type": "code",
   "execution_count": 8,
   "id": "3086f206-937a-4f31-879e-ebbdf795e983",
   "metadata": {
    "ExecuteTime": {
     "end_time": "2021-06-23T14:59:24.070143Z",
     "start_time": "2021-06-23T14:58:45.870Z"
    }
   },
   "outputs": [],
   "source": [
    "folder = \"data/\"\n",
    "node_ohe = OHE(categories=[list(range(23)), [0, 1], [0, 1]])\n",
    "edge_ohe = OHE(categories=[[0, 1]])\n",
    "graphs = []\n",
    "idx_arr = []\n",
    "y_arr = []"
   ]
  },
  {
   "cell_type": "code",
   "execution_count": 9,
   "id": "c7a3eba7-9464-4e21-95fb-2c1d3b349843",
   "metadata": {
    "ExecuteTime": {
     "end_time": "2021-06-23T14:59:24.070143Z",
     "start_time": "2021-06-23T14:58:45.870Z"
    }
   },
   "outputs": [],
   "source": [
    "for num, fn in enumerate(os.listdir(folder)):\n",
    "    if fn.endswith(\".npz\"):\n",
    "        data = np.load(folder + fn)\n",
    "        X = torch.tensor(node_ohe.fit_transform(data[\"node_data\"][:, 1:4]).todense())\n",
    "\n",
    "        A = edge_ohe.fit_transform(data[\"edge_data\"][:, 1:]).todense()\n",
    "        E = torch.tensor(np.hstack((data[\"edge_data\"][:, :1], A)))\n",
    "\n",
    "        pg_data = Data(\n",
    "            edge_index=torch.tensor(data[\"edges\"][:, 0:2]).t().contiguous().long(),\n",
    "            x=X.float(),\n",
    "            edge_attr=E.float(),\n",
    "            y=torch.tensor(\n",
    "                df[df[\"name\"] == fn.replace(\".npz\", \".gml\")][\"e_predict\"].item()\n",
    "            ),\n",
    "        )\n",
    "\n",
    "        idx_arr.append(num)\n",
    "        y_arr.append(df[df[\"name\"] == fn.replace(\".npz\", \".gml\")][\"e_predict\"].item())\n",
    "\n",
    "        graphs.append(pg_data)"
   ]
  },
  {
   "cell_type": "markdown",
   "id": "141fcf8f-3055-4d85-b690-4c95b293f225",
   "metadata": {},
   "source": [
    "# Train/test split, Dataset"
   ]
  },
  {
   "cell_type": "code",
   "execution_count": 10,
   "id": "b8e704cf-ba2a-448b-9d5b-9a8e65979d5b",
   "metadata": {},
   "outputs": [],
   "source": [
    "from sklearn.model_selection import train_test_split"
   ]
  },
  {
   "cell_type": "code",
   "execution_count": 11,
   "id": "95e518bc-8ef8-471e-8dd4-fb833260ab07",
   "metadata": {},
   "outputs": [],
   "source": [
    "X_train, X_test, y_train, y_test = train_test_split(\n",
    "    graphs,\n",
    "    y_arr,\n",
    "    test_size=0.2,\n",
    "    random_state=42,\n",
    "    stratify=[np.exp(i.y.cpu().numpy()) > 0.5 for i in graphs],\n",
    ")"
   ]
  },
  {
   "cell_type": "code",
   "execution_count": 12,
   "id": "df067969-c14c-460d-a45d-307b33799693",
   "metadata": {},
   "outputs": [],
   "source": [
    "class GraphDataset(Dataset):\n",
    "    def __init__(self, graphs):\n",
    "        self.graphs = graphs\n",
    "\n",
    "    def __len__(self):\n",
    "        return len(self.graphs)\n",
    "\n",
    "    def __getitem__(self, idx):\n",
    "        graph_data = self.graphs[idx]\n",
    "\n",
    "        graph_data.y_exp = torch.exp(deepcopy(graph_data.y))\n",
    "\n",
    "        graph_data.y_int = torch.round(deepcopy(graph_data.y_exp)).float()\n",
    "\n",
    "        return graph_data"
   ]
  },
  {
   "cell_type": "code",
   "execution_count": 13,
   "id": "cf3a8ac3-8b85-4ca7-82c4-4069fd4df85a",
   "metadata": {},
   "outputs": [],
   "source": [
    "train_dataset = GraphDataset(X_train)\n",
    "test_dataset = GraphDataset(X_test)"
   ]
  },
  {
   "cell_type": "code",
   "execution_count": 14,
   "id": "19a669ce-02e7-4c10-a3a9-db0e56123f30",
   "metadata": {},
   "outputs": [
    {
     "data": {
      "text/plain": [
       "Data(x=[517, 27], edge_index=[2, 22851], edge_attr=[22851, 3], y=0.15911602973937988, y_exp=1.1724740266799927, y_int=1.0)"
      ]
     },
     "execution_count": 14,
     "metadata": {},
     "output_type": "execute_result"
    }
   ],
   "source": [
    "train_dataset[0]"
   ]
  },
  {
   "cell_type": "code",
   "execution_count": 15,
   "id": "916baafd-a461-4d5b-83cc-9f6851db8b35",
   "metadata": {},
   "outputs": [],
   "source": [
    "train_loader = DataLoader(train_dataset, batch_size=2, shuffle=True, num_workers=6)\n",
    "test_loader = DataLoader(test_dataset, batch_size=2, shuffle=True, num_workers=6)"
   ]
  },
  {
   "cell_type": "code",
   "execution_count": 20,
   "id": "b30f9af4-8000-41ba-9891-4abb5745a837",
   "metadata": {},
   "outputs": [],
   "source": [
    "def baseline_model(train_dataset, test_dataset):\n",
    "    criterion = nn.MSELoss(reduction=\"mean\")\n",
    "\n",
    "    prediction = np.mean([i.y.item() for i in train_dataset])\n",
    "\n",
    "    true_labels = [i.y.item() for i in test_dataset]\n",
    "    pred_labels = [prediction for i in range(len(test_dataset))]\n",
    "\n",
    "    return (\n",
    "        mean_squared_error(pred_labels, true_labels, squared=False),\n",
    "        r2_score(pred_labels, true_labels),\n",
    "        criterion(torch.tensor(pred_labels), torch.tensor(true_labels)).item(),\n",
    "    )"
   ]
  },
  {
   "cell_type": "code",
   "execution_count": 21,
   "id": "a031fe76-ee57-4ffa-98dc-efd6f8ee5243",
   "metadata": {},
   "outputs": [
    {
     "data": {
      "text/plain": [
       "(2.926429621304172, -4.3424589920815715e+31, 8.563990328446478)"
      ]
     },
     "execution_count": 21,
     "metadata": {},
     "output_type": "execute_result"
    }
   ],
   "source": [
    "baseline_model(train_dataset, test_dataset)"
   ]
  },
  {
   "cell_type": "markdown",
   "id": "a3f04c2c-4e75-4259-96cb-7f7554cac8af",
   "metadata": {},
   "source": [
    "Бейзлайн модель при текущем сплите отрабатывает на 8.564 RMSE"
   ]
  },
  {
   "cell_type": "markdown",
   "id": "cad98d9b-02e4-4fcf-9657-342f2b60e878",
   "metadata": {},
   "source": [
    "## Простая графовая регрессионная модель pytorch_geometric без использования edge_features"
   ]
  },
  {
   "cell_type": "code",
   "execution_count": 40,
   "id": "4e9df7b6-8d33-4ef2-8fc0-c7e04e2493c6",
   "metadata": {},
   "outputs": [
    {
     "name": "stdout",
     "output_type": "stream",
     "text": [
      "GCN(\n",
      "  (conv1): GraphConv(27, 120)\n",
      "  (conv2): GraphConv(120, 120)\n",
      "  (conv3): GraphConv(120, 120)\n",
      "  (conv4): GraphConv(120, 120)\n",
      "  (lin1): Linear(in_features=120, out_features=120, bias=True)\n",
      "  (lin2): Linear(in_features=120, out_features=120, bias=True)\n",
      "  (lin3): Linear(in_features=120, out_features=1, bias=True)\n",
      ")\n",
      "122521\n"
     ]
    }
   ],
   "source": [
    "import torch.nn.functional as F\n",
    "from torch.nn import Linear\n",
    "from torch_geometric.nn import GCNConv, GraphConv, NNConv, global_mean_pool\n",
    "\n",
    "\n",
    "class GCN(torch.nn.Module):\n",
    "    def __init__(self, hidden_channels, node_feature_channels):\n",
    "        super(GCN, self).__init__()\n",
    "        torch.manual_seed(12345)\n",
    "        self.conv1 = GraphConv(node_feature_channels, hidden_channels)\n",
    "        self.conv2 = GraphConv(hidden_channels, hidden_channels)\n",
    "        self.conv3 = GraphConv(hidden_channels, hidden_channels)\n",
    "        self.conv4 = GraphConv(hidden_channels, hidden_channels)\n",
    "\n",
    "        self.lin1 = Linear(hidden_channels, hidden_channels)\n",
    "        self.lin2 = Linear(hidden_channels, hidden_channels)\n",
    "        self.lin3 = Linear(hidden_channels, 1)\n",
    "\n",
    "    def forward(self, data):\n",
    "        # 1. Obtain node embeddings\n",
    "        x, edge_index, edge_attr, batch = (\n",
    "            data.x,\n",
    "            data.edge_index,\n",
    "            data.edge_attr,\n",
    "            data.batch,\n",
    "        )\n",
    "        x = self.conv1(x, edge_index)\n",
    "        x = x.relu()\n",
    "        x = self.conv2(x, edge_index)\n",
    "        x = x.relu()\n",
    "        x = self.conv3(x, edge_index)\n",
    "        x = x.relu()\n",
    "        x = self.conv4(x, edge_index)\n",
    "\n",
    "        # 2. Readout layer\n",
    "        x = global_mean_pool(x, batch)  # [batch_size, hidden_channels]\n",
    "\n",
    "        # 3. Apply a final classifier\n",
    "        x = self.lin1(x)\n",
    "        x = x.relu()\n",
    "        x = self.lin2(x)\n",
    "        x = x.relu()\n",
    "\n",
    "        return self.lin3(x)\n",
    "\n",
    "\n",
    "model = GCN(hidden_channels=120, node_feature_channels=train_dataset.num_node_features)\n",
    "print(model)\n",
    "print(sum(p.numel() for p in model.parameters()))  # Не очень тяжелая модель"
   ]
  },
  {
   "cell_type": "code",
   "execution_count": 41,
   "id": "14ef56d7-a322-4c9f-9d2b-3db47c25d5e6",
   "metadata": {
    "tags": []
   },
   "outputs": [
    {
     "name": "stdout",
     "output_type": "stream",
     "text": [
      "1074.6941\n",
      "6.8254657\n",
      "5.5678577\n",
      "5.309845\n",
      "3.2959845\n",
      "2.8815024\n",
      "3.314702\n",
      "3.0075715\n",
      "2.7820928\n",
      "3.053943\n",
      "3.1770666\n",
      "2.538394\n",
      "2.3291054\n",
      "2.5020354\n",
      "2.342524\n"
     ]
    }
   ],
   "source": [
    "optimizer = torch.optim.Adam(model.parameters(), lr=0.0001)\n",
    "criterion = nn.MSELoss()\n",
    "device = \"cuda:2\"\n",
    "model = model.to(device)\n",
    "\n",
    "\n",
    "def train():\n",
    "    model.train()\n",
    "    for data in train_loader:  # Iterate in batches over the training dataset.\n",
    "        data = data.to(device)\n",
    "        out = model(data)  # Perform a single forward pass.\n",
    "        loss = criterion(out.view(-1, 1), data.y.view(-1, 1))  # Compute the loss.\n",
    "        loss.backward()  # Derive gradients.\n",
    "        optimizer.step()  # Update parameters based on gradients.\n",
    "        optimizer.zero_grad()  # Clear gradients.\n",
    "\n",
    "    with torch.no_grad():\n",
    "        true = []\n",
    "        preds = []\n",
    "        for data in test_loader:  # Iterate in batches over the training dataset.\n",
    "            data = data.to(device)\n",
    "            out = model(data)  # Perform a single forward pass.\n",
    "            val_loss = criterion(\n",
    "                out.view(-1, 1), data.y.view(-1, 1)\n",
    "            )  # Compute the loss.\n",
    "            true.extend(data.y.detach().cpu().numpy())\n",
    "            preds.extend(out.detach().cpu().numpy())\n",
    "\n",
    "    return mean_squared_error(true, preds)\n",
    "\n",
    "\n",
    "rmse_history = []\n",
    "for epoch in range(750):\n",
    "    rmse_val = train()\n",
    "    rmse_history.append(rmse_val)\n",
    "    if epoch % 50 == 0:\n",
    "        print(rmse_val)"
   ]
  },
  {
   "cell_type": "code",
   "execution_count": 42,
   "id": "0563784d-fde2-4768-a355-2cb90c531d40",
   "metadata": {},
   "outputs": [
    {
     "data": {
      "text/plain": [
       "2.1792986"
      ]
     },
     "execution_count": 42,
     "metadata": {},
     "output_type": "execute_result"
    }
   ],
   "source": [
    "min(rmse_history)"
   ]
  },
  {
   "cell_type": "code",
   "execution_count": 43,
   "id": "2bc951b9-b39a-4cbe-816b-edcb234564e6",
   "metadata": {},
   "outputs": [
    {
     "data": {
      "text/plain": [
       "682"
      ]
     },
     "execution_count": 43,
     "metadata": {},
     "output_type": "execute_result"
    }
   ],
   "source": [
    "rmse_history.index(min(rmse_history))"
   ]
  },
  {
   "cell_type": "code",
   "execution_count": 48,
   "id": "4c6173e6-c649-421e-bab1-d65f6f035479",
   "metadata": {},
   "outputs": [
    {
     "data": {
      "text/plain": [
       "(0.0, 14.0)"
      ]
     },
     "execution_count": 48,
     "metadata": {},
     "output_type": "execute_result"
    },
    {
     "data": {
      "image/png": "[encoded data removed]",
      "text/plain": [
       "<Figure size 432x288 with 1 Axes>"
      ]
     },
     "metadata": {
      "needs_background": "light"
     },
     "output_type": "display_data"
    }
   ],
   "source": [
    "plt.plot(rmse_history)\n",
    "plt.title(\"Simple GCN node features only\")\n",
    "plt.ylim([0, 14])"
   ]
  }
 ],
 "metadata": {
  "hide_input": false,
  "kernelspec": {
   "display_name": "user_venv",
   "language": "python",
   "name": "user_venv"
  },
  "language_info": {
   "codemirror_mode": {
    "name": "ipython",
    "version": 3
   },
   "file_extension": ".py",
   "mimetype": "text/x-python",
   "name": "python",
   "nbconvert_exporter": "python",
   "pygments_lexer": "ipython3",
   "version": "3.9.1"
  },
  "toc": {
   "base_numbering": 1,
   "nav_menu": {},
   "number_sections": true,
   "sideBar": true,
   "skip_h1_title": false,
   "title_cell": "Table of Contents",
   "title_sidebar": "Contents",
   "toc_cell": false,
   "toc_position": {},
   "toc_section_display": true,
   "toc_window_display": false
  }
 },
 "nbformat": 4,
 "nbformat_minor": 5
}
